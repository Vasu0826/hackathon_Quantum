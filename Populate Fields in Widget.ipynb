{
 "cells": [
  {
   "cell_type": "code",
   "execution_count": 1,
   "id": "2c1cb4b7",
   "metadata": {},
   "outputs": [
    {
     "data": {
      "text/plain": [
       "['',\n",
       " 'Untitled4 - Jupyter Notebook and 6 more pages - Profile 1 - Microsoft\\u200b Edge',\n",
       " 'YouTube Downloader HD - High Speed Edition',\n",
       " 'YouTube Downloader HD',\n",
       " 'RigVeda Adhyayanam - YouTube - Google Chrome',\n",
       " 'New Tab - Google Chrome',\n",
       " 'Microsoft Text Input Application',\n",
       " 'CN=Microsoft Windows, O=Microsoft Corporation, L=Redmond, S=Washington, C=US',\n",
       " 'Settings',\n",
       " '',\n",
       " '',\n",
       " '',\n",
       " '',\n",
       " '',\n",
       " 'Jupyter Notebook',\n",
       " 'youtube_downloader_hd',\n",
       " '',\n",
       " '',\n",
       " 'Program Manager']"
      ]
     },
     "execution_count": 1,
     "metadata": {},
     "output_type": "execute_result"
    }
   ],
   "source": [
    "import subprocess\n",
    "import pygetwindow as gw\n",
    "import time\n",
    "\n",
    "\n",
    "gw.getAllTitles() "
   ]
  },
  {
   "cell_type": "code",
   "execution_count": 2,
   "id": "2919cb72",
   "metadata": {},
   "outputs": [
    {
     "name": "stdout",
     "output_type": "stream",
     "text": [
      "Class Name: TPanel\n",
      "Control ID: 198260\n",
      "Text: \n",
      "Element Name {'ChildId': 0, 'DefaultAction': '', 'Description': '', 'Help': '', 'KeyboardShortcut': '', 'Name': '', 'Role': 10, 'State': 1048576, 'Value': ''}\n",
      "Rectangle: (L921, T594, R1786, B765)\n",
      "\n",
      "Class Name: TPanel\n",
      "Control ID: 722184\n",
      "Text: \n",
      "Element Name {'ChildId': 0, 'DefaultAction': '', 'Description': '', 'Help': '', 'KeyboardShortcut': '', 'Name': '', 'Role': 10, 'State': 1048576, 'Value': ''}\n",
      "Rectangle: (L921, T450, R1786, B594)\n",
      "\n",
      "Class Name: TPanel\n",
      "Control ID: 1311110\n",
      "Text: \n",
      "Element Name {'ChildId': 0, 'DefaultAction': '', 'Description': '', 'Help': '', 'KeyboardShortcut': '', 'Name': '', 'Role': 10, 'State': 1048576, 'Value': ''}\n",
      "Rectangle: (L921, T230, R1786, B321)\n",
      "\n",
      "Class Name: TPanel\n",
      "Control ID: 198258\n",
      "Text: \n",
      "Element Name {'ChildId': 0, 'DefaultAction': '', 'Description': '', 'Help': '', 'KeyboardShortcut': '', 'Name': '', 'Role': 10, 'State': 1048576, 'Value': ''}\n",
      "Rectangle: (L921, T321, R1786, B450)\n",
      "\n",
      "Class Name: TPanel\n",
      "Control ID: 460348\n",
      "Text: \n",
      "Element Name {'ChildId': 0, 'DefaultAction': '', 'Description': '', 'Help': '', 'KeyboardShortcut': '', 'Name': '', 'Role': 10, 'State': 1048576, 'Value': ''}\n",
      "Rectangle: (L921, T765, R1786, B816)\n",
      "\n",
      "Class Name: TStatusBar\n",
      "Control ID: 263798\n",
      "Text: \n",
      "Element Name {'ChildId': 0, 'DefaultAction': '', 'Description': '', 'Help': '', 'KeyboardShortcut': '', 'Name': '', 'Role': 23, 'State': 1048576, 'Value': ''}\n",
      "Rectangle: (L921, T816, R1786, B840)\n",
      "\n",
      "Class Name: \n",
      "Control ID: None\n",
      "Text: \n",
      "Element Name {'ChildId': 0, 'DefaultAction': None, 'Description': 'Displays the name of the window and contains controls to manipulate it', 'Help': None, 'KeyboardShortcut': None, 'Name': None, 'Role': 1, 'State': 1048576, 'Value': 'YouTube Downloader HD - High Speed Edition'}\n",
      "Rectangle: (L941, T195, R1786, B230)\n",
      "\n"
     ]
    }
   ],
   "source": [
    "from pywinauto import Desktop\n",
    "import time\n",
    "\n",
    "def find_elements(window_title):\n",
    "    # Get the handle of the window\n",
    "    desktop = Desktop(backend=\"uia\")\n",
    "    window = desktop.window(title=window_title)\n",
    "    \n",
    "    # Wait for the window to be ready (adjust delay as needed)\n",
    "    time.sleep(1)\n",
    "    \n",
    "    # Find all child elements of the window\n",
    "    elements = window.children()\n",
    "    \n",
    "    return elements\n",
    "\n",
    "# Example usage\n",
    "if __name__ == \"__main__\":\n",
    "    # Title of the window\n",
    "    window_title = \"YouTube Downloader HD - High Speed Edition\"\n",
    "    \n",
    "    # Find the elements within the window\n",
    "    elements = find_elements(window_title)\n",
    "    \n",
    "    # Print information about each element\n",
    "    for element in elements:\n",
    "        print(\"Class Name:\", element.class_name())\n",
    "        print(\"Control ID:\", element.control_id())\n",
    "        print(\"Text:\", element.window_text())\n",
    "        print(\"Element Name\", element.legacy_properties())\n",
    "        print(\"Rectangle:\", element.rectangle())\n",
    "        print()\n"
   ]
  }
 ],
 "metadata": {
  "kernelspec": {
   "display_name": "Python 3 (ipykernel)",
   "language": "python",
   "name": "python3"
  },
  "language_info": {
   "codemirror_mode": {
    "name": "ipython",
    "version": 3
   },
   "file_extension": ".py",
   "mimetype": "text/x-python",
   "name": "python",
   "nbconvert_exporter": "python",
   "pygments_lexer": "ipython3",
   "version": "3.11.5"
  }
 },
 "nbformat": 4,
 "nbformat_minor": 5
}
